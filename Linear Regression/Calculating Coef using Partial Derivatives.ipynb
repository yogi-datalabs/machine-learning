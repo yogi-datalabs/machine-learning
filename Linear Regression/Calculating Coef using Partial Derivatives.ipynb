{
 "cells": [
  {
   "cell_type": "markdown",
   "metadata": {},
   "source": [
    "# <font color = \"brown\"> Solving Linear Regression using Correlation Formula"
   ]
  },
  {
   "cell_type": "markdown",
   "metadata": {},
   "source": [
    "*  This approach is specific to **simple linear regression** (one predictor and one target variable).\n",
    "*  The simple formulas for covariance and variance do not extend naturally to multiple variables."
   ]
  },
  {
   "cell_type": "markdown",
   "metadata": {},
   "source": [
    "### Solving using manual method"
   ]
  },
  {
   "cell_type": "code",
   "execution_count": 1,
   "metadata": {},
   "outputs": [
    {
     "name": "stdout",
     "output_type": "stream",
     "text": [
      "Intercept is: -5.993847492386976\n",
      "Coefficient is: 3.0188304020881227\n"
     ]
    }
   ],
   "source": [
    "import numpy as np\n",
    "import pandas as pd\n",
    "from sklearn.linear_model import LinearRegression\n",
    "\n",
    "# Generate random values for x and y\n",
    "np.random.seed(42)  # For reproducibility\n",
    "x = np.random.randint(1, 100, 10)  # Generate 10 random x values\n",
    "y = 3 * x + np.random.randint(-10, 10, 10)  # y = 3x + some noise\n",
    "\n",
    "# Manual Calculation of Beta1 (Slope) and Beta0 (Intercept)\n",
    "x_mean = np.mean(x)\n",
    "y_mean = np.mean(y)\n",
    "\n",
    "# Compute Covariance and Variance\n",
    "cov_xy = np.sum((x - x_mean) * (y - y_mean))\n",
    "var_x = np.sum((x - x_mean) ** 2)\n",
    "\n",
    "# Calculate Beta1 (Slope)\n",
    "beta1_manual = cov_xy / var_x\n",
    "\n",
    "# Calculate Beta0 (Intercept)\n",
    "beta0_manual = y_mean - beta1_manual * x_mean\n",
    "\n",
    "print(\"Intercept is:\", beta0_manual)\n",
    "print(\"Coefficient is:\", beta1_manual)"
   ]
  },
  {
   "cell_type": "markdown",
   "metadata": {},
   "source": [
    "### Building the model using sklearn"
   ]
  },
  {
   "cell_type": "code",
   "execution_count": 2,
   "metadata": {},
   "outputs": [
    {
     "name": "stdout",
     "output_type": "stream",
     "text": [
      "Intercept is: -5.993847492387033\n",
      "Coefficient is: [3.0188304]\n"
     ]
    }
   ],
   "source": [
    "# Solve Using Sklearn\n",
    "x_reshaped = x.reshape(-1, 1)  # Reshape for sklearn\n",
    "model = LinearRegression(fit_intercept=True)  # Default includes intercept\n",
    "model.fit(x_reshaped, y)\n",
    "\n",
    "print(\"Intercept is:\", model.intercept_)\n",
    "print(\"Coefficient is:\", model.coef_)"
   ]
  },
  {
   "cell_type": "markdown",
   "metadata": {},
   "source": [
    "### Comparing the manual results with sklearn results"
   ]
  },
  {
   "cell_type": "code",
   "execution_count": 3,
   "metadata": {},
   "outputs": [
    {
     "name": "stdout",
     "output_type": "stream",
     "text": [
      "Generated x values: [52 93 15 72 61 21 83 87 75 75]\n",
      "Generated y values: [149 276  37 207 184  58 240 251 226 226]\n",
      "\n",
      "Comparison of Manual Calculation vs Sklearn:\n",
      "               Method  Beta1 (Slope)  Beta0 (Intercept)\n",
      "0  Manual Calculation        3.01883          -5.993847\n",
      "1             Sklearn        3.01883          -5.993847\n"
     ]
    }
   ],
   "source": [
    "# Store results in a DataFrame\n",
    "results = pd.DataFrame({\n",
    "    \"Method\": [\"Manual Calculation\", \"Sklearn\"],\n",
    "    \"Beta1 (Slope)\": [beta1_manual, model.coef_[0]],\n",
    "    \"Beta0 (Intercept)\": [beta0_manual, model.intercept_]\n",
    "})\n",
    "\n",
    "# Display results\n",
    "print(\"Generated x values:\", x)\n",
    "print(\"Generated y values:\", y)\n",
    "print(\"\\nComparison of Manual Calculation vs Sklearn:\")\n",
    "print(results)\n"
   ]
  }
 ],
 "metadata": {
  "kernelspec": {
   "display_name": "base",
   "language": "python",
   "name": "python3"
  },
  "language_info": {
   "codemirror_mode": {
    "name": "ipython",
    "version": 3
   },
   "file_extension": ".py",
   "mimetype": "text/x-python",
   "name": "python",
   "nbconvert_exporter": "python",
   "pygments_lexer": "ipython3",
   "version": "3.11.5"
  }
 },
 "nbformat": 4,
 "nbformat_minor": 2
}
